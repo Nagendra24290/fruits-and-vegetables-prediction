{
  "nbformat": 4,
  "nbformat_minor": 0,
  "metadata": {
    "colab": {
      "provenance": [],
      "gpuType": "T4",
      "mount_file_id": "1Oww4wMsrUut1PDwGlnv2vgitDUXJQPJT",
      "authorship_tag": "ABX9TyPQyGXB7oifag1qUS5hA58P",
      "include_colab_link": true
    },
    "kernelspec": {
      "name": "python3",
      "display_name": "Python 3"
    },
    "language_info": {
      "name": "python"
    },
    "accelerator": "GPU"
  },
  "cells": [
    {
      "cell_type": "markdown",
      "metadata": {
        "id": "view-in-github",
        "colab_type": "text"
      },
      "source": [
        "<a href=\"https://colab.research.google.com/github/Nagendra24290/fruits-and-vegetables-prediction/blob/main/fv_model.ipynb\" target=\"_parent\"><img src=\"https://colab.research.google.com/assets/colab-badge.svg\" alt=\"Open In Colab\"/></a>"
      ]
    },
    {
      "cell_type": "code",
      "execution_count": 1,
      "metadata": {
        "colab": {
          "base_uri": "https://localhost:8080/"
        },
        "id": "osLyaGbUljj_",
        "outputId": "1a55301b-b4cf-46d3-a87b-26ed3ef2c3f4"
      },
      "outputs": [
        {
          "output_type": "stream",
          "name": "stdout",
          "text": [
            "Drive already mounted at /content/drive; to attempt to forcibly remount, call drive.mount(\"/content/drive\", force_remount=True).\n"
          ]
        }
      ],
      "source": [
        "from google.colab import drive\n",
        "drive.mount('/content/drive')"
      ]
    },
    {
      "cell_type": "code",
      "source": [
        "import numpy as np\n",
        "import tensorflow as tf\n",
        "import matplotlib.pyplot as plt"
      ],
      "metadata": {
        "id": "69cz28A0wUV_"
      },
      "execution_count": 2,
      "outputs": []
    },
    {
      "cell_type": "markdown",
      "source": [
        "data preporoessing"
      ],
      "metadata": {
        "id": "r7WpBlb7wp2C"
      }
    },
    {
      "cell_type": "markdown",
      "source": [
        "training\n"
      ],
      "metadata": {
        "id": "jpXP2fInxWA0"
      }
    },
    {
      "cell_type": "code",
      "source": [
        "\n",
        "traning_set=tf.keras.utils.image_dataset_from_directory(\"/content/drive/MyDrive/fruits and vegetables/train\",\n",
        "    labels=\"inferred\",\n",
        "    label_mode=\"categorical\",\n",
        "    class_names=None,\n",
        "    color_mode=\"rgb\",\n",
        "    batch_size=32,\n",
        "    image_size=(64, 64),\n",
        "    shuffle=True,\n",
        "    seed=None,\n",
        "    validation_split=None,\n",
        "    subset=None,\n",
        "    interpolation=\"bilinear\",\n",
        "    follow_links=False,\n",
        "    crop_to_aspect_ratio=False,\n",
        "\n",
        ")\n",
        "\n",
        "\n",
        "\n",
        "\n"
      ],
      "metadata": {
        "colab": {
          "base_uri": "https://localhost:8080/"
        },
        "id": "7Y35kHUIws55",
        "outputId": "1c9941d7-dc2c-4435-c4b8-fb757fef4370"
      },
      "execution_count": 3,
      "outputs": [
        {
          "output_type": "stream",
          "name": "stdout",
          "text": [
            "Found 3115 files belonging to 36 classes.\n"
          ]
        }
      ]
    },
    {
      "cell_type": "markdown",
      "source": [
        "validation\n"
      ],
      "metadata": {
        "id": "Gcgvu6ze4Ca6"
      }
    },
    {
      "cell_type": "code",
      "source": [
        "validation_set=tf.keras.utils.image_dataset_from_directory(\n",
        "    '/content/drive/MyDrive/fruits and vegetables/validation',\n",
        "    labels=\"inferred\",\n",
        "    label_mode=\"categorical\",\n",
        "    class_names=None,\n",
        "    color_mode=\"rgb\",\n",
        "    batch_size=32,\n",
        "    image_size=(64, 64),\n",
        "    shuffle=True,\n",
        "    seed=None,\n",
        "    validation_split=None,\n",
        "    subset=None,\n",
        "    interpolation=\"bilinear\",\n",
        "    follow_links=False,\n",
        "    crop_to_aspect_ratio=False\n",
        "\n",
        ")"
      ],
      "metadata": {
        "colab": {
          "base_uri": "https://localhost:8080/"
        },
        "id": "1afbF0ag4B9e",
        "outputId": "15c3d5dd-df9d-4851-f134-bb69c65127ce"
      },
      "execution_count": 4,
      "outputs": [
        {
          "output_type": "stream",
          "name": "stdout",
          "text": [
            "Found 351 files belonging to 36 classes.\n"
          ]
        }
      ]
    },
    {
      "cell_type": "markdown",
      "source": [
        "model\n"
      ],
      "metadata": {
        "id": "HBL_-NeIFEE5"
      }
    },
    {
      "cell_type": "code",
      "source": [
        "cnn = tf.keras.models.Sequential()"
      ],
      "metadata": {
        "id": "05RCFJnDFFzS",
        "collapsed": true
      },
      "execution_count": 5,
      "outputs": []
    },
    {
      "cell_type": "markdown",
      "source": [
        "cnn layer"
      ],
      "metadata": {
        "id": "YT8i8d_tF50x"
      }
    },
    {
      "cell_type": "code",
      "source": [
        "cnn.add(tf.keras.layers.Conv2D(filters=64, kernel_size=3, activation='relu', input_shape=[64, 64, 3]))\n",
        "cnn.add(tf.keras.layers.MaxPool2D(pool_size=2, strides=2))"
      ],
      "metadata": {
        "colab": {
          "base_uri": "https://localhost:8080/"
        },
        "id": "yz6qAKrrFTcj",
        "outputId": "1d9af6c1-4eb1-46b7-93fa-4233942f9ff0"
      },
      "execution_count": 6,
      "outputs": [
        {
          "output_type": "stream",
          "name": "stderr",
          "text": [
            "/usr/local/lib/python3.10/dist-packages/keras/src/layers/convolutional/base_conv.py:107: UserWarning: Do not pass an `input_shape`/`input_dim` argument to a layer. When using Sequential models, prefer using an `Input(shape)` object as the first layer in the model instead.\n",
            "  super().__init__(activity_regularizer=activity_regularizer, **kwargs)\n"
          ]
        }
      ]
    },
    {
      "cell_type": "code",
      "source": [
        "cnn.add(tf.keras.layers.Conv2D(filters=64, kernel_size=3, activation='relu'))\n",
        "cnn.add(tf.keras.layers.MaxPool2D(pool_size=2, strides=2))"
      ],
      "metadata": {
        "id": "Fv1YMK9HKHif"
      },
      "execution_count": 7,
      "outputs": []
    },
    {
      "cell_type": "code",
      "source": [
        "cnn.add(tf.keras.layers.Dropout(0.5))"
      ],
      "metadata": {
        "id": "ehgvSH23Kuju"
      },
      "execution_count": 8,
      "outputs": []
    },
    {
      "cell_type": "code",
      "source": [
        "cnn.add(tf.keras.layers.Flatten())"
      ],
      "metadata": {
        "id": "M28SKbkqLAQq"
      },
      "execution_count": 9,
      "outputs": []
    },
    {
      "cell_type": "code",
      "source": [
        "cnn.add(tf.keras.layers.Dense(units=128, activation='relu'))"
      ],
      "metadata": {
        "id": "hPJlUuJFLHKu"
      },
      "execution_count": 10,
      "outputs": []
    },
    {
      "cell_type": "code",
      "source": [
        "cnn.add(tf.keras.layers.Dense(units=36, activation='softmax'))  ##output layer"
      ],
      "metadata": {
        "id": "Pw-I4Y5UMDxJ"
      },
      "execution_count": 11,
      "outputs": []
    },
    {
      "cell_type": "markdown",
      "source": [
        "training and compiling\n"
      ],
      "metadata": {
        "id": "bkD9fYUgMlRX"
      }
    },
    {
      "cell_type": "code",
      "source": [
        "cnn.compile(optimizer = 'rmsprop', loss = 'categorical_crossentropy', metrics = ['accuracy'])"
      ],
      "metadata": {
        "id": "e9_0x5cKMo9n"
      },
      "execution_count": 12,
      "outputs": []
    },
    {
      "cell_type": "code",
      "source": [
        "training_history=cnn.fit(x = traning_set, validation_data = validation_set, epochs = 30)"
      ],
      "metadata": {
        "colab": {
          "base_uri": "https://localhost:8080/"
        },
        "id": "l7LcWn1QNKaz",
        "outputId": "f1e8e610-e8e8-4167-bfb5-3a1a959b4a6f"
      },
      "execution_count": 15,
      "outputs": [
        {
          "output_type": "stream",
          "name": "stdout",
          "text": [
            "Epoch 1/30\n",
            "\u001b[1m98/98\u001b[0m \u001b[32m━━━━━━━━━━━━━━━━━━━━\u001b[0m\u001b[37m\u001b[0m \u001b[1m72s\u001b[0m 732ms/step - accuracy: 0.8233 - loss: 0.8909 - val_accuracy: 0.9202 - val_loss: 1.4824\n",
            "Epoch 2/30\n",
            "\u001b[1m98/98\u001b[0m \u001b[32m━━━━━━━━━━━━━━━━━━━━\u001b[0m\u001b[37m\u001b[0m \u001b[1m68s\u001b[0m 696ms/step - accuracy: 0.8342 - loss: 1.1524 - val_accuracy: 0.9031 - val_loss: 1.4466\n",
            "Epoch 3/30\n",
            "\u001b[1m98/98\u001b[0m \u001b[32m━━━━━━━━━━━━━━━━━━━━\u001b[0m\u001b[37m\u001b[0m \u001b[1m82s\u001b[0m 701ms/step - accuracy: 0.8238 - loss: 1.1741 - val_accuracy: 0.9316 - val_loss: 1.3799\n",
            "Epoch 4/30\n",
            "\u001b[1m98/98\u001b[0m \u001b[32m━━━━━━━━━━━━━━━━━━━━\u001b[0m\u001b[37m\u001b[0m \u001b[1m67s\u001b[0m 676ms/step - accuracy: 0.8658 - loss: 0.9900 - val_accuracy: 0.9003 - val_loss: 1.3734\n",
            "Epoch 5/30\n",
            "\u001b[1m98/98\u001b[0m \u001b[32m━━━━━━━━━━━━━━━━━━━━\u001b[0m\u001b[37m\u001b[0m \u001b[1m71s\u001b[0m 719ms/step - accuracy: 0.8435 - loss: 0.9611 - val_accuracy: 0.8376 - val_loss: 2.1260\n",
            "Epoch 6/30\n",
            "\u001b[1m98/98\u001b[0m \u001b[32m━━━━━━━━━━━━━━━━━━━━\u001b[0m\u001b[37m\u001b[0m \u001b[1m80s\u001b[0m 700ms/step - accuracy: 0.8409 - loss: 1.0164 - val_accuracy: 0.9316 - val_loss: 1.3205\n",
            "Epoch 7/30\n",
            "\u001b[1m98/98\u001b[0m \u001b[32m━━━━━━━━━━━━━━━━━━━━\u001b[0m\u001b[37m\u001b[0m \u001b[1m68s\u001b[0m 697ms/step - accuracy: 0.8579 - loss: 1.0103 - val_accuracy: 0.8917 - val_loss: 1.3783\n",
            "Epoch 8/30\n",
            "\u001b[1m98/98\u001b[0m \u001b[32m━━━━━━━━━━━━━━━━━━━━\u001b[0m\u001b[37m\u001b[0m \u001b[1m69s\u001b[0m 704ms/step - accuracy: 0.8656 - loss: 0.7658 - val_accuracy: 0.8632 - val_loss: 1.8388\n",
            "Epoch 9/30\n",
            "\u001b[1m98/98\u001b[0m \u001b[32m━━━━━━━━━━━━━━━━━━━━\u001b[0m\u001b[37m\u001b[0m \u001b[1m69s\u001b[0m 696ms/step - accuracy: 0.8379 - loss: 1.1133 - val_accuracy: 0.9373 - val_loss: 1.2424\n",
            "Epoch 10/30\n",
            "\u001b[1m98/98\u001b[0m \u001b[32m━━━━━━━━━━━━━━━━━━━━\u001b[0m\u001b[37m\u001b[0m \u001b[1m84s\u001b[0m 719ms/step - accuracy: 0.8577 - loss: 0.8470 - val_accuracy: 0.9373 - val_loss: 1.7480\n",
            "Epoch 11/30\n",
            "\u001b[1m98/98\u001b[0m \u001b[32m━━━━━━━━━━━━━━━━━━━━\u001b[0m\u001b[37m\u001b[0m \u001b[1m68s\u001b[0m 694ms/step - accuracy: 0.8628 - loss: 1.0576 - val_accuracy: 0.9259 - val_loss: 1.4431\n",
            "Epoch 12/30\n",
            "\u001b[1m98/98\u001b[0m \u001b[32m━━━━━━━━━━━━━━━━━━━━\u001b[0m\u001b[37m\u001b[0m \u001b[1m81s\u001b[0m 686ms/step - accuracy: 0.8624 - loss: 0.9481 - val_accuracy: 0.8775 - val_loss: 2.0043\n",
            "Epoch 13/30\n",
            "\u001b[1m98/98\u001b[0m \u001b[32m━━━━━━━━━━━━━━━━━━━━\u001b[0m\u001b[37m\u001b[0m \u001b[1m68s\u001b[0m 695ms/step - accuracy: 0.8675 - loss: 1.0058 - val_accuracy: 0.8291 - val_loss: 3.2579\n",
            "Epoch 14/30\n",
            "\u001b[1m98/98\u001b[0m \u001b[32m━━━━━━━━━━━━━━━━━━━━\u001b[0m\u001b[37m\u001b[0m \u001b[1m82s\u001b[0m 694ms/step - accuracy: 0.8438 - loss: 1.2542 - val_accuracy: 0.7977 - val_loss: 3.5444\n",
            "Epoch 15/30\n",
            "\u001b[1m98/98\u001b[0m \u001b[32m━━━━━━━━━━━━━━━━━━━━\u001b[0m\u001b[37m\u001b[0m \u001b[1m68s\u001b[0m 701ms/step - accuracy: 0.8639 - loss: 1.3247 - val_accuracy: 0.9031 - val_loss: 2.2616\n",
            "Epoch 16/30\n",
            "\u001b[1m98/98\u001b[0m \u001b[32m━━━━━━━━━━━━━━━━━━━━\u001b[0m\u001b[37m\u001b[0m \u001b[1m66s\u001b[0m 671ms/step - accuracy: 0.8830 - loss: 0.7848 - val_accuracy: 0.9316 - val_loss: 1.5647\n",
            "Epoch 17/30\n",
            "\u001b[1m98/98\u001b[0m \u001b[32m━━━━━━━━━━━━━━━━━━━━\u001b[0m\u001b[37m\u001b[0m \u001b[1m70s\u001b[0m 720ms/step - accuracy: 0.8799 - loss: 0.6751 - val_accuracy: 0.8974 - val_loss: 1.4640\n",
            "Epoch 18/30\n",
            "\u001b[1m98/98\u001b[0m \u001b[32m━━━━━━━━━━━━━━━━━━━━\u001b[0m\u001b[37m\u001b[0m \u001b[1m67s\u001b[0m 690ms/step - accuracy: 0.8701 - loss: 1.0314 - val_accuracy: 0.8519 - val_loss: 1.9060\n",
            "Epoch 19/30\n",
            "\u001b[1m98/98\u001b[0m \u001b[32m━━━━━━━━━━━━━━━━━━━━\u001b[0m\u001b[37m\u001b[0m \u001b[1m82s\u001b[0m 696ms/step - accuracy: 0.8739 - loss: 0.9220 - val_accuracy: 0.9288 - val_loss: 1.4325\n",
            "Epoch 20/30\n",
            "\u001b[1m98/98\u001b[0m \u001b[32m━━━━━━━━━━━━━━━━━━━━\u001b[0m\u001b[37m\u001b[0m \u001b[1m68s\u001b[0m 695ms/step - accuracy: 0.8956 - loss: 0.7704 - val_accuracy: 0.9373 - val_loss: 1.2192\n",
            "Epoch 21/30\n",
            "\u001b[1m98/98\u001b[0m \u001b[32m━━━━━━━━━━━━━━━━━━━━\u001b[0m\u001b[37m\u001b[0m \u001b[1m84s\u001b[0m 722ms/step - accuracy: 0.8920 - loss: 0.6648 - val_accuracy: 0.7151 - val_loss: 4.0893\n",
            "Epoch 22/30\n",
            "\u001b[1m98/98\u001b[0m \u001b[32m━━━━━━━━━━━━━━━━━━━━\u001b[0m\u001b[37m\u001b[0m \u001b[1m70s\u001b[0m 715ms/step - accuracy: 0.8707 - loss: 1.2265 - val_accuracy: 0.9573 - val_loss: 1.6837\n",
            "Epoch 23/30\n",
            "\u001b[1m98/98\u001b[0m \u001b[32m━━━━━━━━━━━━━━━━━━━━\u001b[0m\u001b[37m\u001b[0m \u001b[1m80s\u001b[0m 700ms/step - accuracy: 0.9062 - loss: 0.6756 - val_accuracy: 0.9373 - val_loss: 1.7003\n",
            "Epoch 24/30\n",
            "\u001b[1m98/98\u001b[0m \u001b[32m━━━━━━━━━━━━━━━━━━━━\u001b[0m\u001b[37m\u001b[0m \u001b[1m69s\u001b[0m 700ms/step - accuracy: 0.8963 - loss: 0.7254 - val_accuracy: 0.9259 - val_loss: 1.9765\n",
            "Epoch 25/30\n",
            "\u001b[1m98/98\u001b[0m \u001b[32m━━━━━━━━━━━━━━━━━━━━\u001b[0m\u001b[37m\u001b[0m \u001b[1m68s\u001b[0m 698ms/step - accuracy: 0.8956 - loss: 0.8358 - val_accuracy: 0.9516 - val_loss: 1.5879\n",
            "Epoch 26/30\n",
            "\u001b[1m98/98\u001b[0m \u001b[32m━━━━━━━━━━━━━━━━━━━━\u001b[0m\u001b[37m\u001b[0m \u001b[1m82s\u001b[0m 701ms/step - accuracy: 0.8978 - loss: 0.8091 - val_accuracy: 0.8974 - val_loss: 1.9852\n",
            "Epoch 27/30\n",
            "\u001b[1m98/98\u001b[0m \u001b[32m━━━━━━━━━━━━━━━━━━━━\u001b[0m\u001b[37m\u001b[0m \u001b[1m82s\u001b[0m 702ms/step - accuracy: 0.8957 - loss: 0.7485 - val_accuracy: 0.9544 - val_loss: 1.6436\n",
            "Epoch 28/30\n",
            "\u001b[1m98/98\u001b[0m \u001b[32m━━━━━━━━━━━━━━━━━━━━\u001b[0m\u001b[37m\u001b[0m \u001b[1m69s\u001b[0m 704ms/step - accuracy: 0.9177 - loss: 0.6853 - val_accuracy: 0.7094 - val_loss: 5.8222\n",
            "Epoch 29/30\n",
            "\u001b[1m98/98\u001b[0m \u001b[32m━━━━━━━━━━━━━━━━━━━━\u001b[0m\u001b[37m\u001b[0m \u001b[1m67s\u001b[0m 688ms/step - accuracy: 0.9058 - loss: 0.8430 - val_accuracy: 0.9459 - val_loss: 1.8276\n",
            "Epoch 30/30\n",
            "\u001b[1m98/98\u001b[0m \u001b[32m━━━━━━━━━━━━━━━━━━━━\u001b[0m\u001b[37m\u001b[0m \u001b[1m69s\u001b[0m 706ms/step - accuracy: 0.9057 - loss: 0.8620 - val_accuracy: 0.9601 - val_loss: 1.9030\n"
          ]
        }
      ]
    },
    {
      "cell_type": "code",
      "source": [
        "cnn.save('trained_model.h5')"
      ],
      "metadata": {
        "id": "CZnme1eNi6xE",
        "colab": {
          "base_uri": "https://localhost:8080/"
        },
        "outputId": "69b0cd67-cae5-42e4-9bca-6abf6b3f1ce1"
      },
      "execution_count": 16,
      "outputs": [
        {
          "output_type": "stream",
          "name": "stderr",
          "text": [
            "WARNING:absl:You are saving your model as an HDF5 file via `model.save()` or `keras.saving.save_model(model)`. This file format is considered legacy. We recommend using instead the native Keras format, e.g. `model.save('my_model.keras')` or `keras.saving.save_model(model, 'my_model.keras')`. \n"
          ]
        }
      ]
    },
    {
      "cell_type": "code",
      "source": [
        "training_history.history"
      ],
      "metadata": {
        "id": "Hnlf2-VJjnnc",
        "colab": {
          "base_uri": "https://localhost:8080/"
        },
        "outputId": "2cf7e294-b713-4584-b495-fb1d29c0db26"
      },
      "execution_count": 17,
      "outputs": [
        {
          "output_type": "execute_result",
          "data": {
            "text/plain": [
              "{'accuracy': [0.8279293775558472,\n",
              "  0.8382022380828857,\n",
              "  0.8298555612564087,\n",
              "  0.8459069132804871,\n",
              "  0.841091513633728,\n",
              "  0.844622790813446,\n",
              "  0.8471910357475281,\n",
              "  0.8520064353942871,\n",
              "  0.8491171598434448,\n",
              "  0.8574638962745667,\n",
              "  0.8606741428375244,\n",
              "  0.8600320816040039,\n",
              "  0.869983971118927,\n",
              "  0.8629213571548462,\n",
              "  0.877046525478363,\n",
              "  0.8703050017356873,\n",
              "  0.8706260323524475,\n",
              "  0.8642054796218872,\n",
              "  0.8757624626159668,\n",
              "  0.8821830153465271,\n",
              "  0.8918138146400452,\n",
              "  0.8895666003227234,\n",
              "  0.8956661224365234,\n",
              "  0.8921348452568054,\n",
              "  0.8924558758735657,\n",
              "  0.8956661224365234,\n",
              "  0.8950240612030029,\n",
              "  0.9069020748138428,\n",
              "  0.903691828250885,\n",
              "  0.902407705783844],\n",
              " 'loss': [0.9291452169418335,\n",
              "  0.9696699976921082,\n",
              "  1.013864278793335,\n",
              "  1.0033092498779297,\n",
              "  0.9984403848648071,\n",
              "  0.9490071535110474,\n",
              "  1.001694679260254,\n",
              "  0.8523351550102234,\n",
              "  0.8840457201004028,\n",
              "  0.915740966796875,\n",
              "  0.9623906016349792,\n",
              "  0.881979763507843,\n",
              "  0.9004136919975281,\n",
              "  0.9956336617469788,\n",
              "  0.9094265699386597,\n",
              "  0.8636585474014282,\n",
              "  0.7779898643493652,\n",
              "  0.9785626530647278,\n",
              "  0.9231706857681274,\n",
              "  0.869986355304718,\n",
              "  0.6996110081672668,\n",
              "  0.9078258872032166,\n",
              "  0.7062426209449768,\n",
              "  0.7986312508583069,\n",
              "  0.955521285533905,\n",
              "  0.7149094939231873,\n",
              "  0.7387359738349915,\n",
              "  0.834021270275116,\n",
              "  0.792328953742981,\n",
              "  0.9809147119522095],\n",
              " 'val_accuracy': [0.9202279448509216,\n",
              "  0.9031339287757874,\n",
              "  0.9316239356994629,\n",
              "  0.9002848863601685,\n",
              "  0.8376068472862244,\n",
              "  0.9316239356994629,\n",
              "  0.8917378783226013,\n",
              "  0.8632478713989258,\n",
              "  0.9373219609260559,\n",
              "  0.9373219609260559,\n",
              "  0.9259259104728699,\n",
              "  0.8774929046630859,\n",
              "  0.8290598392486572,\n",
              "  0.7977207899093628,\n",
              "  0.9031339287757874,\n",
              "  0.9316239356994629,\n",
              "  0.8974359035491943,\n",
              "  0.8518518805503845,\n",
              "  0.9287749528884888,\n",
              "  0.9373219609260559,\n",
              "  0.7150996923446655,\n",
              "  0.9572649598121643,\n",
              "  0.9373219609260559,\n",
              "  0.9259259104728699,\n",
              "  0.9515669345855713,\n",
              "  0.8974359035491943,\n",
              "  0.9544159770011902,\n",
              "  0.7094017267227173,\n",
              "  0.945868968963623,\n",
              "  0.9601139426231384],\n",
              " 'val_loss': [1.4824326038360596,\n",
              "  1.4466007947921753,\n",
              "  1.3799312114715576,\n",
              "  1.3734148740768433,\n",
              "  2.1259765625,\n",
              "  1.3205119371414185,\n",
              "  1.3783169984817505,\n",
              "  1.8387935161590576,\n",
              "  1.2423973083496094,\n",
              "  1.747962236404419,\n",
              "  1.443143367767334,\n",
              "  2.004318952560425,\n",
              "  3.2578539848327637,\n",
              "  3.5443716049194336,\n",
              "  2.261585235595703,\n",
              "  1.5646586418151855,\n",
              "  1.463955044746399,\n",
              "  1.9059803485870361,\n",
              "  1.4324942827224731,\n",
              "  1.2191574573516846,\n",
              "  4.0892534255981445,\n",
              "  1.6836680173873901,\n",
              "  1.7002674341201782,\n",
              "  1.9764846563339233,\n",
              "  1.58786141872406,\n",
              "  1.985163927078247,\n",
              "  1.6435545682907104,\n",
              "  5.822248935699463,\n",
              "  1.8276476860046387,\n",
              "  1.9029983282089233]}"
            ]
          },
          "metadata": {},
          "execution_count": 17
        }
      ]
    },
    {
      "cell_type": "code",
      "source": [
        "import json\n",
        "with open('training_hist.json', 'w') as f:\n",
        "    json.dump(training_history.history, f)"
      ],
      "metadata": {
        "id": "tfQfSnZfnX4a"
      },
      "execution_count": 18,
      "outputs": []
    },
    {
      "cell_type": "code",
      "source": [
        "print(training_history.history.keys())"
      ],
      "metadata": {
        "id": "V4ujrYuvny8c",
        "colab": {
          "base_uri": "https://localhost:8080/"
        },
        "outputId": "286cbdc1-1a9a-4188-bceb-11a6d38e2a2f"
      },
      "execution_count": 19,
      "outputs": [
        {
          "output_type": "stream",
          "name": "stdout",
          "text": [
            "dict_keys(['accuracy', 'loss', 'val_accuracy', 'val_loss'])\n"
          ]
        }
      ]
    },
    {
      "cell_type": "code",
      "source": [
        "training_history.history['val_accuracy'][-1]*100\n"
      ],
      "metadata": {
        "id": "1JJrbHE1oQg2",
        "colab": {
          "base_uri": "https://localhost:8080/"
        },
        "outputId": "e2652798-5be8-4bd4-cf56-4727b97c170c"
      },
      "execution_count": 20,
      "outputs": [
        {
          "output_type": "execute_result",
          "data": {
            "text/plain": [
              "96.01139426231384"
            ]
          },
          "metadata": {},
          "execution_count": 20
        }
      ]
    },
    {
      "cell_type": "markdown",
      "source": [
        "graph epochs"
      ],
      "metadata": {
        "id": "4DxVQNbHqB1i"
      }
    },
    {
      "cell_type": "code",
      "source": [
        "epochs = [i for i in range(1,31)]\n",
        "plt.plot(epochs, training_history.history['accuracy'], label='Training Accuracy',color='blue')\n",
        "plt.plot(epochs, training_history.history['val_accuracy'], label='Validation Accuracy',color='red')\n",
        "plt.title('Training and Validation Accuracy')\n",
        "plt.xlabel('Epochs')\n",
        "plt.ylabel('Accuracy')\n",
        "plt.legend()\n",
        "plt.show()\n",
        "\n"
      ],
      "metadata": {
        "id": "Q4SjsEJjozyU",
        "colab": {
          "base_uri": "https://localhost:8080/",
          "height": 472
        },
        "outputId": "4d900eea-5505-44e5-c431-b804f1bddfbb"
      },
      "execution_count": 21,
      "outputs": [
        {
          "output_type": "display_data",
          "data": {
            "text/plain": [
              "<Figure size 640x480 with 1 Axes>"
            ],
            "image/png": "[encoded data removed]"
          },
          "metadata": {}
        }
      ]
    },
    {
      "cell_type": "code",
      "source": [],
      "metadata": {
        "id": "hMHXn0cww1DA"
      },
      "execution_count": null,
      "outputs": []
    }
  ]
}